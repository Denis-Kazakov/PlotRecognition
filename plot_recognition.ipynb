{
  "cells": [
    {
      "cell_type": "code",
      "execution_count": null,
      "id": "efafedd4",
      "metadata": {
        "id": "efafedd4"
      },
      "outputs": [],
      "source": [
        "import numpy as np\n",
        "import tensorflow as tf\n",
        "import matplotlib.pyplot as plt\n",
        "import pandas as pd"
      ]
    },
    {
      "cell_type": "code",
      "source": [
        "from google.colab import drive\n",
        "drive.mount('/content/gdrive')"
      ],
      "metadata": {
        "colab": {
          "base_uri": "https://localhost:8080/"
        },
        "id": "H4PhZIgdF_O-",
        "outputId": "e9c11106-164b-40ed-833f-150a04086ef4"
      },
      "id": "H4PhZIgdF_O-",
      "execution_count": null,
      "outputs": [
        {
          "output_type": "stream",
          "name": "stdout",
          "text": [
            "Mounted at /content/gdrive\n"
          ]
        }
      ]
    },
    {
      "cell_type": "code",
      "execution_count": 5,
      "id": "afd4ac78",
      "metadata": {
        "id": "afd4ac78"
      },
      "outputs": [],
      "source": [
        "y_train = np.load('/content/gdrive/MyDrive/datasets/PlotRecognition/curves12_200_train.npy')"
      ]
    },
    {
      "cell_type": "code",
      "execution_count": 8,
      "id": "28c40f9c",
      "metadata": {
        "id": "28c40f9c"
      },
      "outputs": [],
      "source": [
        "X_train = np.load('/content/gdrive/MyDrive/datasets/PlotRecognition/plots12_200_train.npy')"
      ]
    },
    {
      "cell_type": "code",
      "execution_count": 9,
      "id": "504e6771",
      "metadata": {
        "id": "504e6771"
      },
      "outputs": [],
      "source": [
        "y_test = np.load('/content/gdrive/MyDrive/datasets/PlotRecognition/curves12_200_test.npy')"
      ]
    },
    {
      "cell_type": "code",
      "execution_count": 10,
      "id": "f339eb31",
      "metadata": {
        "id": "f339eb31"
      },
      "outputs": [],
      "source": [
        "X_test = np.load('/content/gdrive/MyDrive/datasets/PlotRecognition/plots12_200_test.npy')"
      ]
    },
    {
      "cell_type": "markdown",
      "id": "00b465de",
      "metadata": {
        "id": "00b465de"
      },
      "source": [
        "Checking whether the plots were loaded correctly:"
      ]
    },
    {
      "cell_type": "code",
      "execution_count": 11,
      "id": "00fac2ab",
      "metadata": {
        "id": "00fac2ab",
        "outputId": "26f8cd5d-1ce7-4e2c-b475-9a84b998da02",
        "colab": {
          "base_uri": "https://localhost:8080/"
        }
      },
      "outputs": [
        {
          "output_type": "execute_result",
          "data": {
            "text/plain": [
              "(10000, 201, 201)"
            ]
          },
          "metadata": {},
          "execution_count": 11
        }
      ],
      "source": [
        "X_train.shape"
      ]
    },
    {
      "cell_type": "code",
      "execution_count": 12,
      "id": "e22cf6ca",
      "metadata": {
        "id": "e22cf6ca",
        "outputId": "8f1101df-0b74-4461-91c9-e0768f1bc5c8",
        "colab": {
          "base_uri": "https://localhost:8080/"
        }
      },
      "outputs": [
        {
          "output_type": "stream",
          "name": "stdout",
          "text": [
            "201 201\n"
          ]
        }
      ],
      "source": [
        "dim_x = X_train.shape[1]\n",
        "dim_y = X_train.shape[2]\n",
        "print(dim_x, dim_y)"
      ]
    },
    {
      "cell_type": "code",
      "execution_count": 13,
      "id": "197122cf",
      "metadata": {
        "id": "197122cf",
        "outputId": "e49761b1-1d7b-4cf1-ff7e-ed6837b760c8",
        "colab": {
          "base_uri": "https://localhost:8080/"
        }
      },
      "outputs": [
        {
          "output_type": "execute_result",
          "data": {
            "text/plain": [
              "(10000, 201)"
            ]
          },
          "metadata": {},
          "execution_count": 13
        }
      ],
      "source": [
        "y_train.shape"
      ]
    },
    {
      "cell_type": "code",
      "execution_count": 14,
      "id": "64e26153",
      "metadata": {
        "id": "64e26153",
        "outputId": "b83853dd-be0b-41a5-d305-6e29f13356cb",
        "colab": {
          "base_uri": "https://localhost:8080/",
          "height": 1000
        }
      },
      "outputs": [
        {
          "output_type": "display_data",
          "data": {
            "text/plain": [
              "<Figure size 432x288 with 1 Axes>"
            ],
            "image/png": "[encoded data removed]"
          },
          "metadata": {
            "needs_background": "light"
          }
        },
        {
          "output_type": "display_data",
          "data": {
            "text/plain": [
              "<Figure size 432x288 with 1 Axes>"
            ],
            "image/png": "[encoded data removed]"
          },
          "metadata": {
            "needs_background": "light"
          }
        },
        {
          "output_type": "display_data",
          "data": {
            "text/plain": [
              "<Figure size 432x288 with 1 Axes>"
            ],
            "image/png": "[encoded data removed]"
          },
          "metadata": {
            "needs_background": "light"
          }
        },
        {
          "output_type": "display_data",
          "data": {
            "text/plain": [
              "<Figure size 432x288 with 1 Axes>"
            ],
            "image/png": "[encoded data removed]"
          },
          "metadata": {
            "needs_background": "light"
          }
        },
        {
          "output_type": "display_data",
          "data": {
            "text/plain": [
              "<Figure size 432x288 with 1 Axes>"
            ],
            "image/png": "[encoded data removed]"
          },
          "metadata": {
            "needs_background": "light"
          }
        }
      ],
      "source": [
        "for n in range(5):\n",
        "    plt.imshow(X_train[n, :, :], cmap='gray_r', vmin=0, vmax=1, origin='lower')\n",
        "    plt.show()"
      ]
    },
    {
      "cell_type": "code",
      "execution_count": 15,
      "id": "7d4d7493",
      "metadata": {
        "id": "7d4d7493"
      },
      "outputs": [],
      "source": [
        "model = tf.keras.Sequential(\n",
        "    [\n",
        "        tf.keras.layers.Conv2D(\n",
        "            filters=32,\n",
        "            kernel_size=(3, 3),\n",
        "            activation='relu',\n",
        "            input_shape=(dim_x, dim_y, 1)\n",
        "        ),\n",
        "        tf.keras.layers.MaxPool2D(pool_size=(2, 2)),\n",
        "        tf.keras.layers.Conv2D(\n",
        "            filters=64,\n",
        "            kernel_size=(3, 3),\n",
        "            activation='relu'\n",
        "        ),\n",
        "        tf.keras.layers.MaxPool2D(pool_size=(2, 2)),\n",
        "        tf.keras.layers.Conv2D(\n",
        "            filters=128,\n",
        "            kernel_size=(3, 3),\n",
        "            activation='relu'\n",
        "        ),\n",
        "        tf.keras.layers.MaxPool2D(pool_size=(2, 2)),\n",
        "        tf.keras.layers.Flatten(),\n",
        "        tf.keras.layers.Dropout(0.2),\n",
        "        tf.keras.layers.Dense(dim_x * 4, activation='relu'),\n",
        "        tf.keras.layers.Dropout(0.2),\n",
        "        tf.keras.layers.Dense(dim_x, activation='relu')\n",
        "    ]\n",
        ")"
      ]
    },
    {
      "cell_type": "code",
      "execution_count": 16,
      "id": "986a881f",
      "metadata": {
        "id": "986a881f",
        "outputId": "38a912d4-acda-496f-89e9-0e391cbd456a",
        "colab": {
          "base_uri": "https://localhost:8080/"
        }
      },
      "outputs": [
        {
          "output_type": "stream",
          "name": "stdout",
          "text": [
            "Model: \"sequential\"\n",
            "_________________________________________________________________\n",
            " Layer (type)                Output Shape              Param #   \n",
            "=================================================================\n",
            " conv2d (Conv2D)             (None, 199, 199, 32)      320       \n",
            "                                                                 \n",
            " max_pooling2d (MaxPooling2D  (None, 99, 99, 32)       0         \n",
            " )                                                               \n",
            "                                                                 \n",
            " conv2d_1 (Conv2D)           (None, 97, 97, 64)        18496     \n",
            "                                                                 \n",
            " max_pooling2d_1 (MaxPooling  (None, 48, 48, 64)       0         \n",
            " 2D)                                                             \n",
            "                                                                 \n",
            " conv2d_2 (Conv2D)           (None, 46, 46, 128)       73856     \n",
            "                                                                 \n",
            " max_pooling2d_2 (MaxPooling  (None, 23, 23, 128)      0         \n",
            " 2D)                                                             \n",
            "                                                                 \n",
            " flatten (Flatten)           (None, 67712)             0         \n",
            "                                                                 \n",
            " dropout (Dropout)           (None, 67712)             0         \n",
            "                                                                 \n",
            " dense (Dense)               (None, 804)               54441252  \n",
            "                                                                 \n",
            " dropout_1 (Dropout)         (None, 804)               0         \n",
            "                                                                 \n",
            " dense_1 (Dense)             (None, 201)               161805    \n",
            "                                                                 \n",
            "=================================================================\n",
            "Total params: 54,695,729\n",
            "Trainable params: 54,695,729\n",
            "Non-trainable params: 0\n",
            "_________________________________________________________________\n"
          ]
        }
      ],
      "source": [
        "model.summary()"
      ]
    },
    {
      "cell_type": "code",
      "execution_count": 17,
      "id": "646a0593",
      "metadata": {
        "id": "646a0593"
      },
      "outputs": [],
      "source": [
        "model.compile(loss='mean_squared_error',\n",
        "              optimizer='adam')"
      ]
    },
    {
      "cell_type": "code",
      "execution_count": 18,
      "id": "97615c7e",
      "metadata": {
        "id": "97615c7e",
        "outputId": "b5789696-d883-4f91-fb65-3fee9c8a2a52",
        "colab": {
          "base_uri": "https://localhost:8080/"
        }
      },
      "outputs": [
        {
          "output_type": "stream",
          "name": "stdout",
          "text": [
            "Epoch 1/30\n",
            "250/250 [==============================] - 26s 58ms/step - loss: 1457.5955 - val_loss: 158.1351\n",
            "Epoch 2/30\n",
            "250/250 [==============================] - 14s 57ms/step - loss: 188.0876 - val_loss: 60.8080\n",
            "Epoch 3/30\n",
            "250/250 [==============================] - 14s 56ms/step - loss: 112.9187 - val_loss: 31.6554\n",
            "Epoch 4/30\n",
            "250/250 [==============================] - 14s 57ms/step - loss: 83.1408 - val_loss: 26.6182\n",
            "Epoch 5/30\n",
            "250/250 [==============================] - 14s 56ms/step - loss: 65.6502 - val_loss: 18.1413\n",
            "Epoch 6/30\n",
            "250/250 [==============================] - 14s 56ms/step - loss: 59.3593 - val_loss: 22.5996\n",
            "Epoch 7/30\n",
            "250/250 [==============================] - 14s 57ms/step - loss: 53.2924 - val_loss: 14.5568\n",
            "Epoch 8/30\n",
            "250/250 [==============================] - 14s 56ms/step - loss: 47.4239 - val_loss: 13.6723\n",
            "Epoch 9/30\n",
            "250/250 [==============================] - 14s 56ms/step - loss: 45.0166 - val_loss: 11.3302\n",
            "Epoch 10/30\n",
            "250/250 [==============================] - 14s 57ms/step - loss: 42.9499 - val_loss: 10.7176\n",
            "Epoch 11/30\n",
            "250/250 [==============================] - 14s 56ms/step - loss: 39.4820 - val_loss: 21.2248\n",
            "Epoch 12/30\n",
            "250/250 [==============================] - 14s 56ms/step - loss: 38.5798 - val_loss: 11.6165\n",
            "Epoch 13/30\n",
            "250/250 [==============================] - 14s 56ms/step - loss: 39.9933 - val_loss: 12.3475\n",
            "Epoch 14/30\n",
            "250/250 [==============================] - 14s 57ms/step - loss: 38.8535 - val_loss: 9.6080\n",
            "Epoch 15/30\n",
            "250/250 [==============================] - 14s 57ms/step - loss: 36.7089 - val_loss: 10.3867\n",
            "Epoch 16/30\n",
            "250/250 [==============================] - 14s 56ms/step - loss: 36.5950 - val_loss: 7.4380\n",
            "Epoch 17/30\n",
            "250/250 [==============================] - 14s 58ms/step - loss: 35.7848 - val_loss: 11.6748\n",
            "Epoch 18/30\n",
            "250/250 [==============================] - 14s 56ms/step - loss: 35.4078 - val_loss: 7.2669\n",
            "Epoch 19/30\n",
            "250/250 [==============================] - 14s 57ms/step - loss: 33.7545 - val_loss: 21.4122\n",
            "Epoch 20/30\n",
            "250/250 [==============================] - 14s 57ms/step - loss: 34.2399 - val_loss: 8.8687\n",
            "Epoch 21/30\n",
            "250/250 [==============================] - 14s 56ms/step - loss: 33.6552 - val_loss: 6.9281\n",
            "Epoch 22/30\n",
            "250/250 [==============================] - 14s 56ms/step - loss: 33.4703 - val_loss: 9.9239\n",
            "Epoch 23/30\n",
            "250/250 [==============================] - 14s 56ms/step - loss: 34.8818 - val_loss: 8.1861\n",
            "Epoch 24/30\n",
            "250/250 [==============================] - 14s 56ms/step - loss: 33.4690 - val_loss: 7.9062\n",
            "Epoch 25/30\n",
            "250/250 [==============================] - 14s 57ms/step - loss: 32.6393 - val_loss: 8.4426\n",
            "Epoch 26/30\n",
            "250/250 [==============================] - 14s 56ms/step - loss: 33.9050 - val_loss: 6.8130\n",
            "Epoch 27/30\n",
            "250/250 [==============================] - 14s 57ms/step - loss: 33.4302 - val_loss: 8.4836\n",
            "Epoch 28/30\n",
            "250/250 [==============================] - 14s 56ms/step - loss: 32.3518 - val_loss: 7.4898\n",
            "Epoch 29/30\n",
            "250/250 [==============================] - 14s 56ms/step - loss: 31.9819 - val_loss: 11.1492\n",
            "Epoch 30/30\n",
            "250/250 [==============================] - 14s 56ms/step - loss: 30.9442 - val_loss: 6.7535\n"
          ]
        }
      ],
      "source": [
        "history = model.fit(\n",
        "    x=X_train,\n",
        "    y=y_train,\n",
        "    batch_size=None,\n",
        "    epochs=30,\n",
        "    validation_split=0.2,\n",
        ")"
      ]
    },
    {
      "cell_type": "code",
      "execution_count": 19,
      "id": "c5813ca1",
      "metadata": {
        "id": "c5813ca1",
        "outputId": "0ba2cb68-ad68-4646-d9c2-400d15c7de11",
        "colab": {
          "base_uri": "https://localhost:8080/"
        }
      },
      "outputs": [
        {
          "output_type": "execute_result",
          "data": {
            "text/plain": [
              "Index(['loss', 'val_loss'], dtype='object')"
            ]
          },
          "metadata": {},
          "execution_count": 19
        }
      ],
      "source": [
        "history_pd = pd.DataFrame(history.history)\n",
        "history_pd.columns"
      ]
    },
    {
      "cell_type": "code",
      "execution_count": 20,
      "id": "a689d858",
      "metadata": {
        "scrolled": true,
        "id": "a689d858",
        "outputId": "cd67f5fa-48b0-48fa-979d-24fe510dc214",
        "colab": {
          "base_uri": "https://localhost:8080/",
          "height": 282
        }
      },
      "outputs": [
        {
          "output_type": "execute_result",
          "data": {
            "text/plain": [
              "<matplotlib.axes._subplots.AxesSubplot at 0x7f6e80054110>"
            ]
          },
          "metadata": {},
          "execution_count": 20
        },
        {
          "output_type": "display_data",
          "data": {
            "text/plain": [
              "<Figure size 432x288 with 1 Axes>"
            ],
            "image/png": "[encoded data removed]"
          },
          "metadata": {
            "needs_background": "light"
          }
        }
      ],
      "source": [
        "history_pd[['loss', 'val_loss']].plot.line()"
      ]
    },
    {
      "cell_type": "markdown",
      "id": "e5ca043a",
      "metadata": {
        "id": "e5ca043a"
      },
      "source": [
        "Worst result in the training set"
      ]
    },
    {
      "cell_type": "markdown",
      "id": "b9ba35e2",
      "metadata": {
        "id": "b9ba35e2"
      },
      "source": [
        "Function to show an original plot overlaid with predicted curve."
      ]
    },
    {
      "cell_type": "code",
      "execution_count": 21,
      "id": "3a065e49",
      "metadata": {
        "id": "3a065e49"
      },
      "outputs": [],
      "source": [
        "def plot_result(plot_number, x, y):\n",
        "    plt.imshow(x[plot_number, :, :], cmap='gray_r', vmin=0, vmax=1, origin='lower')\n",
        "    plt.plot(list(range(0, 201)), y[plot_number, :], color='red')\n",
        "    plt.show()"
      ]
    },
    {
      "cell_type": "code",
      "execution_count": 22,
      "id": "76f69e17",
      "metadata": {
        "id": "76f69e17"
      },
      "outputs": [],
      "source": [
        "y_train_pred = model.predict(X_train)"
      ]
    },
    {
      "cell_type": "code",
      "execution_count": 23,
      "id": "b883360f",
      "metadata": {
        "id": "b883360f"
      },
      "outputs": [],
      "source": [
        "sq_diff_train = np.square(y_train_pred - y_train)"
      ]
    },
    {
      "cell_type": "code",
      "execution_count": 24,
      "id": "e450ddd5",
      "metadata": {
        "id": "e450ddd5"
      },
      "outputs": [],
      "source": [
        "sq_diff_train = np.mean(sq_diff_train, 1)"
      ]
    },
    {
      "cell_type": "code",
      "execution_count": 25,
      "id": "f6be4d36",
      "metadata": {
        "id": "f6be4d36",
        "outputId": "aa43a517-b519-4082-acc9-ada2e8c527ea",
        "colab": {
          "base_uri": "https://localhost:8080/",
          "height": 269
        }
      },
      "outputs": [
        {
          "output_type": "display_data",
          "data": {
            "text/plain": [
              "<Figure size 432x288 with 1 Axes>"
            ],
            "image/png": "[encoded data removed]"
          },
          "metadata": {
            "needs_background": "light"
          }
        }
      ],
      "source": [
        "plot_result(np.argmax(sq_diff_train), X_train, y_train_pred)"
      ]
    },
    {
      "cell_type": "code",
      "execution_count": 26,
      "id": "f5364709",
      "metadata": {
        "scrolled": true,
        "id": "f5364709",
        "outputId": "2e538ff3-8eef-432b-c52f-7ff54b1c3cf6",
        "colab": {
          "base_uri": "https://localhost:8080/"
        }
      },
      "outputs": [
        {
          "output_type": "execute_result",
          "data": {
            "text/plain": [
              "211.88912798638194"
            ]
          },
          "metadata": {},
          "execution_count": 26
        }
      ],
      "source": [
        "sq_diff_train.max()"
      ]
    },
    {
      "cell_type": "markdown",
      "id": "c8b8cdb8",
      "metadata": {
        "id": "c8b8cdb8"
      },
      "source": [
        "## Results on the test set"
      ]
    },
    {
      "cell_type": "code",
      "execution_count": 27,
      "id": "88d4091d",
      "metadata": {
        "id": "88d4091d",
        "outputId": "99a0f3c9-2def-47dc-f262-e0d1d8f2a0e8",
        "colab": {
          "base_uri": "https://localhost:8080/"
        }
      },
      "outputs": [
        {
          "output_type": "stream",
          "name": "stdout",
          "text": [
            "63/63 [==============================] - 1s 19ms/step - loss: 8.4151\n"
          ]
        },
        {
          "output_type": "execute_result",
          "data": {
            "text/plain": [
              "8.415066719055176"
            ]
          },
          "metadata": {},
          "execution_count": 27
        }
      ],
      "source": [
        "model.evaluate(X_test, y_test)\n",
        "#print(\"Loss: \", loss)\n"
      ]
    },
    {
      "cell_type": "code",
      "execution_count": 28,
      "id": "9e69c31e",
      "metadata": {
        "scrolled": true,
        "id": "9e69c31e"
      },
      "outputs": [],
      "source": [
        "y_pred = model.predict(X_test)"
      ]
    },
    {
      "cell_type": "code",
      "execution_count": 29,
      "id": "21e4f11a",
      "metadata": {
        "scrolled": true,
        "id": "21e4f11a",
        "outputId": "3737851b-9970-4026-bb07-8295e4ce689b",
        "colab": {
          "base_uri": "https://localhost:8080/",
          "height": 269
        }
      },
      "outputs": [
        {
          "output_type": "display_data",
          "data": {
            "text/plain": [
              "<Figure size 432x288 with 1 Axes>"
            ],
            "image/png": "[encoded data removed]"
          },
          "metadata": {
            "needs_background": "light"
          }
        }
      ],
      "source": [
        "plot_result(0, X_test, y_pred)"
      ]
    },
    {
      "cell_type": "markdown",
      "id": "945a9ac3",
      "metadata": {
        "id": "945a9ac3"
      },
      "source": [
        "Worst result in the test set"
      ]
    },
    {
      "cell_type": "code",
      "execution_count": 30,
      "id": "37eca61e",
      "metadata": {
        "id": "37eca61e"
      },
      "outputs": [],
      "source": [
        "sq_diff = np.square(y_pred - y_test)"
      ]
    },
    {
      "cell_type": "code",
      "execution_count": 31,
      "id": "985a1c72",
      "metadata": {
        "id": "985a1c72"
      },
      "outputs": [],
      "source": [
        "sq_diff = np.mean(sq_diff, 1)"
      ]
    },
    {
      "cell_type": "code",
      "execution_count": 32,
      "id": "f867a4f9",
      "metadata": {
        "id": "f867a4f9",
        "outputId": "0d3dc2e4-d535-4abc-c0de-0f014accbd6d",
        "colab": {
          "base_uri": "https://localhost:8080/",
          "height": 269
        }
      },
      "outputs": [
        {
          "output_type": "display_data",
          "data": {
            "text/plain": [
              "<Figure size 432x288 with 1 Axes>"
            ],
            "image/png": "[encoded data removed]"
          },
          "metadata": {
            "needs_background": "light"
          }
        }
      ],
      "source": [
        "plot_result(np.argmax(sq_diff), X_test, y_pred)"
      ]
    },
    {
      "cell_type": "code",
      "execution_count": 33,
      "id": "6e10a87e",
      "metadata": {
        "id": "6e10a87e",
        "outputId": "b97b4cf5-ac0a-4530-e575-4d29d3f6aed7",
        "colab": {
          "base_uri": "https://localhost:8080/"
        }
      },
      "outputs": [
        {
          "output_type": "execute_result",
          "data": {
            "text/plain": [
              "3191.20905880129"
            ]
          },
          "metadata": {},
          "execution_count": 33
        }
      ],
      "source": [
        "sq_diff.max()"
      ]
    }
  ],
  "metadata": {
    "kernelspec": {
      "display_name": "Python 3 (ipykernel)",
      "language": "python",
      "name": "python3"
    },
    "language_info": {
      "codemirror_mode": {
        "name": "ipython",
        "version": 3
      },
      "file_extension": ".py",
      "mimetype": "text/x-python",
      "name": "python",
      "nbconvert_exporter": "python",
      "pygments_lexer": "ipython3",
      "version": "3.9.12"
    },
    "colab": {
      "provenance": [],
      "collapsed_sections": []
    },
    "accelerator": "GPU",
    "gpuClass": "standard"
  },
  "nbformat": 4,
  "nbformat_minor": 5
}